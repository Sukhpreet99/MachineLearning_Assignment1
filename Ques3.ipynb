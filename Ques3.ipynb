{
 "cells": [
  {
   "cell_type": "code",
   "execution_count": 1,
   "metadata": {},
   "outputs": [],
   "source": [
    "#solution for ques3"
   ]
  },
  {
   "cell_type": "code",
   "execution_count": 3,
   "metadata": {},
   "outputs": [
    {
     "name": "stdout",
     "output_type": "stream",
     "text": [
      "Please enter how many numbers would you like in your Fibonacci sequence: 13\n",
      "[1, 1, 2, 3, 5, 8, 13, 21, 34, 55, 89, 144, 233]\n"
     ]
    }
   ],
   "source": [
    "def fibonacci():\n",
    "    num = int(input(\"Please enter how many numbers would you like in your Fibonacci sequence: \"))\n",
    "    i = 1\n",
    "    if num == 0:\n",
    "        fib = []\n",
    "    elif num == 1:\n",
    "        fib = [1]\n",
    "    elif num == 2:\n",
    "        fib = [1,1]\n",
    "    elif num > 2:\n",
    "        fib = [1,1]\n",
    "        while i < (num - 1):\n",
    "            fib.append(fib[i] + fib[i-1])\n",
    "            i += 1\n",
    "    return fib\n",
    "print (fibonacci())\n"
   ]
  },
  {
   "cell_type": "code",
   "execution_count": null,
   "metadata": {},
   "outputs": [],
   "source": []
  }
 ],
 "metadata": {
  "kernelspec": {
   "display_name": "Python 3",
   "language": "python",
   "name": "python3"
  },
  "language_info": {
   "codemirror_mode": {
    "name": "ipython",
    "version": 3
   },
   "file_extension": ".py",
   "mimetype": "text/x-python",
   "name": "python",
   "nbconvert_exporter": "python",
   "pygments_lexer": "ipython3",
   "version": "3.8.2"
  }
 },
 "nbformat": 4,
 "nbformat_minor": 4
}
