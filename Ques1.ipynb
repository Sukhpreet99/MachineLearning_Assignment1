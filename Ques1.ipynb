{
 "cells": [
  {
   "cell_type": "code",
   "execution_count": 1,
   "metadata": {},
   "outputs": [],
   "source": [
    "#solution for ques1"
   ]
  },
  {
   "cell_type": "code",
   "execution_count": 5,
   "metadata": {},
   "outputs": [
    {
     "name": "stdout",
     "output_type": "stream",
     "text": [
      "What is your name? \n",
      "Sukhpreet\n",
      "How old are you? \n",
      "21\n",
      "Hello Sukhpreet. You are 21 years old. You will turn 100 years old in 2100.\n"
     ]
    }
   ],
   "source": [
    "from datetime import datetime\n",
    "name = input('What is your name? \\n')\n",
    "age = int(input('How old are you? \\n'))\n",
    "hundred = int((100-age) + datetime.now().year)\n",
    "print ('Hello %s. You are %s years old. You will turn 100 years old in %s.' % (name, age, hundred))"
   ]
  },
  {
   "cell_type": "code",
   "execution_count": 7,
   "metadata": {},
   "outputs": [
    {
     "name": "stdout",
     "output_type": "stream",
     "text": [
      "Select a random number: \n",
      "5\n",
      "Hello Sukhpreet. You are 21 years old. You will turn 100 years old in 2100.Hello Sukhpreet. You are 21 years old. You will turn 100 years old in 2100.Hello Sukhpreet. You are 21 years old. You will turn 100 years old in 2100.Hello Sukhpreet. You are 21 years old. You will turn 100 years old in 2100.Hello Sukhpreet. You are 21 years old. You will turn 100 years old in 2100.\n"
     ]
    }
   ],
   "source": [
    "repeat = int(input('Select a random number: \\n'))\n",
    "stmt = ('Hello %s. You are %s years old. You will turn 100 years old in %s.' % (name, age, hundred))\n",
    "print (stmt*repeat)"
   ]
  },
  {
   "cell_type": "code",
   "execution_count": 8,
   "metadata": {},
   "outputs": [
    {
     "name": "stdout",
     "output_type": "stream",
     "text": [
      "Select a random number: \n",
      "5\n",
      "Hello Sukhpreet. You are 21 years old. You will turn 100 years old in 2100.\n",
      "Hello Sukhpreet. You are 21 years old. You will turn 100 years old in 2100.\n",
      "Hello Sukhpreet. You are 21 years old. You will turn 100 years old in 2100.\n",
      "Hello Sukhpreet. You are 21 years old. You will turn 100 years old in 2100.\n",
      "Hello Sukhpreet. You are 21 years old. You will turn 100 years old in 2100.\n",
      "\n"
     ]
    }
   ],
   "source": [
    "repeat_separateLine = int(input('Select a random number: \\n'))\n",
    "stmt = ('Hello %s. You are %s years old. You will turn 100 years old in %s.\\n' % (name, age, hundred))\n",
    "print (stmt*repeat)"
   ]
  },
  {
   "cell_type": "code",
   "execution_count": null,
   "metadata": {},
   "outputs": [],
   "source": []
  }
 ],
 "metadata": {
  "kernelspec": {
   "display_name": "Python 3",
   "language": "python",
   "name": "python3"
  },
  "language_info": {
   "codemirror_mode": {
    "name": "ipython",
    "version": 3
   },
   "file_extension": ".py",
   "mimetype": "text/x-python",
   "name": "python",
   "nbconvert_exporter": "python",
   "pygments_lexer": "ipython3",
   "version": "3.8.2"
  }
 },
 "nbformat": 4,
 "nbformat_minor": 4
}
